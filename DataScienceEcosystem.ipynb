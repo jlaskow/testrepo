{
  "nbformat": 4,
  "nbformat_minor": 0,
  "metadata": {
    "colab": {
      "provenance": [],
      "authorship_tag": "ABX9TyMAjctosA3ssoufUtEqiFqZ",
      "include_colab_link": true
    },
    "kernelspec": {
      "name": "python3",
      "display_name": "Python 3"
    },
    "language_info": {
      "name": "python"
    }
  },
  "cells": [
    {
      "cell_type": "markdown",
      "metadata": {
        "id": "view-in-github",
        "colab_type": "text"
      },
      "source": [
        "<a href=\"https://colab.research.google.com/github/jlaskow/testrepo/blob/main/DataScienceEcosystem.ipynb\" target=\"_parent\"><img src=\"https://colab.research.google.com/assets/colab-badge.svg\" alt=\"Open In Colab\"/></a>"
      ]
    },
    {
      "cell_type": "markdown",
      "source": [
        "\n",
        "#Data Science Tools and Ecosystems\n",
        "\n"
      ],
      "metadata": {
        "id": "rcuzJ3oHQq5R"
      }
    },
    {
      "cell_type": "code",
      "source": [
        "#In this notebook, Data Science Tools and Ecosystem are summarized"
      ],
      "metadata": {
        "id": "48K3pki6Q0RP"
      },
      "execution_count": null,
      "outputs": []
    },
    {
      "cell_type": "code",
      "source": [
        "#Some of the popular languages that Data Scientists use are:\n",
        "\n",
        "# 1) Python\n",
        "# 2) C++\n",
        "# 3) HTML\n"
      ],
      "metadata": {
        "id": "NwGecn8eRtWX"
      },
      "execution_count": null,
      "outputs": []
    },
    {
      "cell_type": "code",
      "source": [
        "#Some of the commonly used libaries used by Data Scientists include:\n",
        "\n",
        "# 1) Pandas\n",
        "# 2) Matplotlib\n",
        "# 3) TensorFlow"
      ],
      "metadata": {
        "id": "KgXLYVA_SA6Y"
      },
      "execution_count": null,
      "outputs": []
    },
    {
      "cell_type": "markdown",
      "source": [
        "Objectives:\n",
        "- Convert minutes to hours\n",
        "- List popular tools for Data Science\n",
        "- Display simple arithmetic"
      ],
      "metadata": {
        "id": "tAWAM17KZCz4"
      }
    },
    {
      "cell_type": "markdown",
      "source": [
        "Data Science Tools"
      ],
      "metadata": {
        "id": "42xjozVOThi4"
      }
    },
    {
      "cell_type": "markdown",
      "source": [
        "|Common Data Science Tools|\n",
        "|-------------------------|\n",
        "|Python|\n",
        "|R|\n",
        "|SAS|"
      ],
      "metadata": {
        "id": "IGpIkACyVJYy"
      }
    },
    {
      "cell_type": "markdown",
      "source": [
        "###Below are a few examples of evaluating arithmetic expression in Python"
      ],
      "metadata": {
        "id": "r4V3YSPhV2Ol"
      }
    },
    {
      "cell_type": "code",
      "source": [
        "#This is a simple arithmetic expression to multiply then add integers\n",
        "(3*4)+5"
      ],
      "metadata": {
        "colab": {
          "base_uri": "https://localhost:8080/"
        },
        "id": "KDrSuqToVFXr",
        "outputId": "3262ce6d-2947-4018-fa24-2863b0a9c30c"
      },
      "execution_count": 3,
      "outputs": [
        {
          "output_type": "execute_result",
          "data": {
            "text/plain": [
              "17"
            ]
          },
          "metadata": {},
          "execution_count": 3
        }
      ]
    },
    {
      "cell_type": "code",
      "source": [
        "#This will convert 200 minutes to hours by dividing by 60\n",
        "min=int(200)\n",
        "hr=min/60\n",
        "hr"
      ],
      "metadata": {
        "colab": {
          "base_uri": "https://localhost:8080/"
        },
        "id": "pLolfYtFWF77",
        "outputId": "ac26eddd-cef4-436b-ed45-c529e8bf6242"
      },
      "execution_count": 9,
      "outputs": [
        {
          "output_type": "execute_result",
          "data": {
            "text/plain": [
              "3.3333333333333335"
            ]
          },
          "metadata": {},
          "execution_count": 9
        }
      ]
    },
    {
      "cell_type": "markdown",
      "source": [
        "##Author\n",
        "Joel Laskow"
      ],
      "metadata": {
        "id": "ZEplw8rjZj1Q"
      }
    }
  ]
}